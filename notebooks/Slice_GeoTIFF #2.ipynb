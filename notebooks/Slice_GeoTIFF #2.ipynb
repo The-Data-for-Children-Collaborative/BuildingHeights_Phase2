{
 "cells": [
  {
   "cell_type": "code",
   "execution_count": 13,
   "id": "e2751701",
   "metadata": {},
   "outputs": [],
   "source": [
    "import os\n",
    "from osgeo import gdal\n",
    "\n",
    "def slice_image(input_file, tile_size, overlap):\n",
    "    # Open the input GeoTiff file\n",
    "    input_dataset = gdal.Open(input_file)\n",
    "\n",
    "    # Get the size of the input image\n",
    "    cols = input_dataset.RasterXSize\n",
    "    rows = input_dataset.RasterYSize\n",
    "\n",
    "    # Calculate the number of tiles in each dimension\n",
    "    num_cols = int((cols - tile_size) / (tile_size - overlap)) + 1\n",
    "    num_rows = int((rows - tile_size) / (tile_size - overlap)) + 1\n",
    "\n",
    "    # Create the output folder if it doesn't exist\n",
    "    output_folder = \"slices_\" + os.path.splitext(os.path.basename(input_file))[0]\n",
    "    if not os.path.exists(output_folder):\n",
    "        os.makedirs(output_folder)\n",
    "\n",
    "    # Loop through all the tiles and extract them\n",
    "    for i in range(num_rows):\n",
    "        for j in range(num_cols):\n",
    "            # Calculate the offset for this tile\n",
    "            x_offset = j * (tile_size - overlap)\n",
    "            y_offset = i * (tile_size - overlap)\n",
    "\n",
    "            # Create the output filename for this tile\n",
    "            output_file = os.path.join(output_folder, \"{}_{}_{}.tif\".format(os.path.splitext(os.path.basename(input_file))[0], x_offset, y_offset))\n",
    "\n",
    "            # Extract the tile using GDAL\n",
    "            gdal.Translate(output_file, input_dataset, srcWin=[x_offset, y_offset, tile_size, tile_size])\n",
    "\n",
    "            print(\"Extracted tile {}_{}\".format(x_offset, y_offset))\n",
    "\n",
    "    # Close the input dataset\n",
    "    input_dataset = None\n"
   ]
  },
  {
   "cell_type": "code",
   "execution_count": 14,
   "id": "4f8a8b4a",
   "metadata": {},
   "outputs": [],
   "source": [
    "input_file = \"maxar_2222_132.tif\"\n",
    "tile_size = 100 \n",
    "overlap = 50"
   ]
  },
  {
   "cell_type": "code",
   "execution_count": 16,
   "id": "004d7884",
   "metadata": {},
   "outputs": [
    {
     "name": "stdout",
     "output_type": "stream",
     "text": [
      "Extracted tile 0_0\n",
      "Extracted tile 50_0\n",
      "Extracted tile 100_0\n",
      "Extracted tile 150_0\n",
      "Extracted tile 0_50\n",
      "Extracted tile 50_50\n",
      "Extracted tile 100_50\n",
      "Extracted tile 150_50\n",
      "Extracted tile 0_100\n",
      "Extracted tile 50_100\n",
      "Extracted tile 100_100\n",
      "Extracted tile 150_100\n",
      "Extracted tile 0_150\n",
      "Extracted tile 50_150\n",
      "Extracted tile 100_150\n",
      "Extracted tile 150_150\n",
      "Extracted tile 0_200\n",
      "Extracted tile 50_200\n",
      "Extracted tile 100_200\n",
      "Extracted tile 150_200\n",
      "Extracted tile 0_250\n",
      "Extracted tile 50_250\n",
      "Extracted tile 100_250\n",
      "Extracted tile 150_250\n"
     ]
    }
   ],
   "source": [
    "slice_image(input_file, tile_size, overlap)"
   ]
  },
  {
   "cell_type": "code",
   "execution_count": null,
   "id": "d004f5f2",
   "metadata": {},
   "outputs": [],
   "source": []
  }
 ],
 "metadata": {
  "kernelspec": {
   "display_name": "Python 3 (ipykernel)",
   "language": "python",
   "name": "python3"
  },
  "language_info": {
   "codemirror_mode": {
    "name": "ipython",
    "version": 3
   },
   "file_extension": ".py",
   "mimetype": "text/x-python",
   "name": "python",
   "nbconvert_exporter": "python",
   "pygments_lexer": "ipython3",
   "version": "3.9.7"
  }
 },
 "nbformat": 4,
 "nbformat_minor": 5
}
