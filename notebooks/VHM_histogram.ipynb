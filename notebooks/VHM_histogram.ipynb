{
 "cells": [
  {
   "cell_type": "code",
   "execution_count": 12,
   "id": "809cc581",
   "metadata": {
    "scrolled": true
   },
   "outputs": [
    {
     "name": "stdout",
     "output_type": "stream",
     "text": [
      "Unable to read file /Users/Medusa/Desktop/photos_valentina/triples/vhm_2342_222.tif. Skipping this file.\n",
      "Unable to read file /Users/Medusa/Desktop/photos_valentina/triples/vhm_3333_153.tif. Skipping this file.\n"
     ]
    },
    {
     "data": {
      "image/png": "[encoded data removed]",
      "text/plain": [
       "<Figure size 432x288 with 1 Axes>"
      ]
     },
     "metadata": {
      "needs_background": "light"
     },
     "output_type": "display_data"
    }
   ],
   "source": [
    "import rasterio\n",
    "import glob\n",
    "import os\n",
    "import numpy as np\n",
    "import matplotlib.pyplot as plt\n",
    "\n",
    "# Set the folder path and file pattern\n",
    "folder_path = '/Users/Medusa/Desktop/photos_valentina/triples'\n",
    "file_pattern = 'vhm_*.tif'\n",
    "\n",
    "# Loop through the files and extract the heights\n",
    "heights = []\n",
    "for filename in glob.glob(os.path.join(folder_path, file_pattern)):\n",
    "    try:\n",
    "        with rasterio.open(filename) as src:\n",
    "            data = src.read(1)\n",
    "            heights.append(np.ravel(data))\n",
    "    except rasterio.errors.RasterioIOError:\n",
    "        print(f\"Unable to read file {filename}. Skipping this file.\")\n",
    "if not heights:\n",
    "    print(\"No valid files found in folder.\")\n",
    "    exit()\n",
    "\n",
    "# Concatenate the flattened arrays vertically\n",
    "heights_flat = np.concatenate(heights, axis=0)\n",
    "\n",
    "# Create and show the histogram\n",
    "plt.hist(heights_flat, bins=50)\n",
    "plt.xlabel('Vegetation height (m)')\n",
    "plt.ylabel('Frequency')\n",
    "\n",
    "# Set the limits of the x-axis to match the range of the heights\n",
    "plt.xlim(0, 40)\n",
    "\n",
    "plt.show()\n"
   ]
  },
  {
   "cell_type": "code",
   "execution_count": 16,
   "id": "bff6e397",
   "metadata": {},
   "outputs": [
    {
     "name": "stdout",
     "output_type": "stream",
     "text": [
      "Number of 0 heights: 410762533\n",
      "Fraction of 0 heights: 72.80%\n"
     ]
    },
    {
     "data": {
      "image/png": "[encoded data removed]",
      "text/plain": [
       "<Figure size 432x288 with 1 Axes>"
      ]
     },
     "metadata": {
      "needs_background": "light"
     },
     "output_type": "display_data"
    }
   ],
   "source": [
    "num_zeros = heights_flat.size - np.count_nonzero(heights_flat)\n",
    "frac_zeros = num_zeros / heights_flat.size\n",
    "print(f\"Number of 0 heights: {num_zeros}\")\n",
    "print(f\"Fraction of 0 heights: {frac_zeros:.2%}\")\n",
    "\n",
    "# Create a histogram of the non-zero heights\n",
    "nonzero_heights = heights_flat[heights_flat > 0]\n",
    "plt.hist(nonzero_heights, bins=50)\n",
    "plt.xlabel('Vegetation height (m)')\n",
    "plt.ylabel('Frequency')\n",
    "\n",
    "# Set the limits of the x-axis to match the range of the non-zero heights\n",
    "plt.xlim(nonzero_heights.min(), nonzero_heights.max())\n",
    "\n",
    "\n",
    "# Show the histogram\n",
    "plt.show()\n"
   ]
  },
  {
   "cell_type": "code",
   "execution_count": 17,
   "id": "ebf00571",
   "metadata": {},
   "outputs": [
    {
     "name": "stdout",
     "output_type": "stream",
     "text": [
      "Number of 0 heights: 410762533\n",
      "Fraction of 0 heights: 72.80%\n"
     ]
    },
    {
     "data": {
      "image/png": "[encoded data removed]",
      "text/plain": [
       "<Figure size 432x288 with 1 Axes>"
      ]
     },
     "metadata": {
      "needs_background": "light"
     },
     "output_type": "display_data"
    }
   ],
   "source": [
    "num_zeros = heights_flat.size - np.count_nonzero(heights_flat)\n",
    "frac_zeros = num_zeros / heights_flat.size\n",
    "print(f\"Number of 0 heights: {num_zeros}\")\n",
    "print(f\"Fraction of 0 heights: {frac_zeros:.2%}\")\n",
    "\n",
    "# Create a histogram of the non-zero heights\n",
    "nonzero_heights = heights_flat[heights_flat > 0]\n",
    "plt.hist(nonzero_heights, bins=50)\n",
    "plt.xlabel('Vegetation height (m)')\n",
    "plt.ylabel('Frequency')\n",
    "\n",
    "# Set the limits of the x-axis to match the range of the non-zero heights\n",
    "plt.xlim(1, 40)\n",
    "\n",
    "\n",
    "# Show the histogram\n",
    "plt.show()\n"
   ]
  },
  {
   "cell_type": "code",
   "execution_count": 18,
   "id": "f40907da",
   "metadata": {},
   "outputs": [
    {
     "name": "stdout",
     "output_type": "stream",
     "text": [
      "25th percentile: 5.57 m\n",
      "50th percentile: 9.02 m\n",
      "75th percentile: 12.98 m\n"
     ]
    }
   ],
   "source": [
    "# Calculate the percentiles and print them out\n",
    "percentiles = np.quantile(nonzero_heights, [0.25, 0.5, 0.75])\n",
    "print(f\"25th percentile: {percentiles[0]:.2f} m\")\n",
    "print(f\"50th percentile: {percentiles[1]:.2f} m\")\n",
    "print(f\"75th percentile: {percentiles[2]:.2f} m\")\n"
   ]
  },
  {
   "cell_type": "code",
   "execution_count": 21,
   "id": "ea2c10f0",
   "metadata": {},
   "outputs": [
    {
     "name": "stdout",
     "output_type": "stream",
     "text": [
      "25th percentile: 5.57 m\n",
      "50th percentile: 9.02 m\n",
      "75th percentile: 12.98 m\n",
      "Mean: 10.02 m\n",
      "Median: 9.02 m\n",
      "Standard deviation: 6.06 m\n",
      "Minimum: 0.00 m\n",
      "Maximum: 120.85 m\n",
      "Range: 120.85 m\n"
     ]
    },
    {
     "data": {
      "image/png": "[encoded data removed]",
      "text/plain": [
       "<Figure size 432x288 with 1 Axes>"
      ]
     },
     "metadata": {
      "needs_background": "light"
     },
     "output_type": "display_data"
    }
   ],
   "source": [
    "# Create a histogram of the non-zero heights\n",
    "nonzero_heights = heights_flat[heights_flat > 0]\n",
    "plt.hist(nonzero_heights, bins=50)\n",
    "plt.xlabel('Vegetation height (m)')\n",
    "plt.ylabel('Frequency')\n",
    "\n",
    "# Set the limits of the x-axis to match the range of the non-zero heights\n",
    "plt.xlim(1, 20)\n",
    "\n",
    "# Calculate the percentiles and print them out\n",
    "percentiles = np.quantile(nonzero_heights, [0.25, 0.5, 0.75])\n",
    "print(f\"25th percentile: {percentiles[0]:.2f} m\")\n",
    "print(f\"50th percentile: {percentiles[1]:.2f} m\")\n",
    "print(f\"75th percentile: {percentiles[2]:.2f} m\")\n",
    "\n",
    "# Compute additional descriptive statistics of the non-zero heights\n",
    "mean = np.mean(nonzero_heights)\n",
    "median = np.median(nonzero_heights)\n",
    "std_dev = np.std(nonzero_heights)\n",
    "min_val = np.min(nonzero_heights)\n",
    "max_val = np.max(nonzero_heights)\n",
    "range_val = max_val - min_val\n",
    "\n",
    "# Print out the additional statistics\n",
    "print(f\"Mean: {mean:.2f} m\")\n",
    "print(f\"Median: {median:.2f} m\")\n",
    "print(f\"Standard deviation: {std_dev:.2f} m\")\n",
    "print(f\"Minimum: {min_val:.2f} m\")\n",
    "print(f\"Maximum: {max_val:.2f} m\")\n",
    "print(f\"Range: {range_val:.2f} m\")\n",
    "\n",
    "# Show the histogram\n",
    "plt.show()\n",
    "\n"
   ]
  },
  {
   "cell_type": "code",
   "execution_count": null,
   "id": "e101ec02",
   "metadata": {},
   "outputs": [],
   "source": []
  }
 ],
 "metadata": {
  "kernelspec": {
   "display_name": "Python 3 (ipykernel)",
   "language": "python",
   "name": "python3"
  },
  "language_info": {
   "codemirror_mode": {
    "name": "ipython",
    "version": 3
   },
   "file_extension": ".py",
   "mimetype": "text/x-python",
   "name": "python",
   "nbconvert_exporter": "python",
   "pygments_lexer": "ipython3",
   "version": "3.9.7"
  }
 },
 "nbformat": 4,
 "nbformat_minor": 5
}
